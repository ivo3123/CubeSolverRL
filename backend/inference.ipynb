{
 "cells": [
  {
   "cell_type": "code",
   "execution_count": 1,
   "id": "13bad87b",
   "metadata": {},
   "outputs": [],
   "source": [
    "import torch\n",
    "import numpy as np\n",
    "# from cube_env.env import RubiksCubeEnv\n",
    "from cube_env.cube_env import RubiksCubeEnv\n",
    "from agent.agent import DQNAgent\n",
    "from cube_env.phases import count_solved_edges_first_layer\n",
    "import polars as pl\n",
    "import plotly.express as px\n",
    "import plotly.graph_objects as go\n",
    "from cube.utils import d_action_turn"
   ]
  },
  {
   "cell_type": "code",
   "execution_count": 2,
   "id": "4e54c9ff",
   "metadata": {},
   "outputs": [
    {
     "data": {
      "text/html": [
       "<pre style=\"white-space:pre;overflow-x:auto;line-height:normal;font-family:Menlo,'DejaVu Sans Mono',consolas,'Courier New',monospace\">\n",
       "              <span style=\"color: #000000; text-decoration-color: #000000; background-color: #ffa500\"> </span><span style=\"color: #000000; text-decoration-color: #000000; background-color: #ffa500; font-weight: bold; font-style: italic; text-decoration: underline\">A</span><span style=\"color: #000000; text-decoration-color: #000000; background-color: #ffa500\"> </span> <span style=\"color: #000000; text-decoration-color: #000000; background-color: #f8f8f8\"> A </span> <span style=\"color: #000000; text-decoration-color: #000000; background-color: #009dff\"> </span><span style=\"color: #000000; text-decoration-color: #000000; background-color: #009dff; font-weight: bold; font-style: italic; text-decoration: underline\">B</span><span style=\"color: #000000; text-decoration-color: #000000; background-color: #009dff\"> </span>\n",
       "\n",
       "              <span style=\"color: #000000; text-decoration-color: #000000; background-color: #ff0000\"> D </span> <span style=\"color: #000000; text-decoration-color: #000000; background-color: #f8f8f8\">   </span> <span style=\"color: #000000; text-decoration-color: #000000; background-color: #ffa500\"> B </span>\n",
       "\n",
       "              <span style=\"color: #000000; text-decoration-color: #000000; background-color: #00ff00\"> </span><span style=\"color: #000000; text-decoration-color: #000000; background-color: #00ff00; font-weight: bold; font-style: italic; text-decoration: underline\">D</span><span style=\"color: #000000; text-decoration-color: #000000; background-color: #00ff00\"> </span> <span style=\"color: #000000; text-decoration-color: #000000; background-color: #f8f8f8\"> C </span> <span style=\"color: #000000; text-decoration-color: #000000; background-color: #f8f8f8\"> </span><span style=\"color: #000000; text-decoration-color: #000000; background-color: #f8f8f8; font-weight: bold; font-style: italic; text-decoration: underline\">C</span><span style=\"color: #000000; text-decoration-color: #000000; background-color: #f8f8f8\"> </span>\n",
       "\n",
       "\n",
       "<span style=\"color: #000000; text-decoration-color: #000000; background-color: #f8f8f8\"> </span><span style=\"color: #000000; text-decoration-color: #000000; background-color: #f8f8f8; font-weight: bold; font-style: italic; text-decoration: underline\">E</span><span style=\"color: #000000; text-decoration-color: #000000; background-color: #f8f8f8\"> </span> <span style=\"color: #000000; text-decoration-color: #000000; background-color: #009dff\"> E </span> <span style=\"color: #000000; text-decoration-color: #000000; background-color: #ffa500\"> </span><span style=\"color: #000000; text-decoration-color: #000000; background-color: #ffa500; font-weight: bold; font-style: italic; text-decoration: underline\">F</span><span style=\"color: #000000; text-decoration-color: #000000; background-color: #ffa500\"> </span>   <span style=\"color: #000000; text-decoration-color: #000000; background-color: #ffff00\"> </span><span style=\"color: #000000; text-decoration-color: #000000; background-color: #ffff00; font-weight: bold; font-style: italic; text-decoration: underline\">I</span><span style=\"color: #000000; text-decoration-color: #000000; background-color: #ffff00\"> </span> <span style=\"color: #000000; text-decoration-color: #000000; background-color: #009dff\"> I </span> <span style=\"color: #000000; text-decoration-color: #000000; background-color: #009dff\"> </span><span style=\"color: #000000; text-decoration-color: #000000; background-color: #009dff; font-weight: bold; font-style: italic; text-decoration: underline\">J</span><span style=\"color: #000000; text-decoration-color: #000000; background-color: #009dff\"> </span>   <span style=\"color: #000000; text-decoration-color: #000000; background-color: #ffa500\"> </span><span style=\"color: #000000; text-decoration-color: #000000; background-color: #ffa500; font-weight: bold; font-style: italic; text-decoration: underline\">M</span><span style=\"color: #000000; text-decoration-color: #000000; background-color: #ffa500\"> </span> <span style=\"color: #000000; text-decoration-color: #000000; background-color: #009dff\"> M </span> <span style=\"color: #000000; text-decoration-color: #000000; background-color: #ffff00\"> </span><span style=\"color: #000000; text-decoration-color: #000000; background-color: #ffff00; font-weight: bold; font-style: italic; text-decoration: underline\">N</span><span style=\"color: #000000; text-decoration-color: #000000; background-color: #ffff00\"> </span>   <span style=\"color: #000000; text-decoration-color: #000000; background-color: #ffa500\"> </span><span style=\"color: #000000; text-decoration-color: #000000; background-color: #ffa500; font-weight: bold; font-style: italic; text-decoration: underline\">Q</span><span style=\"color: #000000; text-decoration-color: #000000; background-color: #ffa500\"> </span> <span style=\"color: #000000; text-decoration-color: #000000; background-color: #00ff00\"> Q </span> <span style=\"color: #000000; text-decoration-color: #000000; background-color: #00ff00\"> </span><span style=\"color: #000000; text-decoration-color: #000000; background-color: #00ff00; font-weight: bold; font-style: italic; text-decoration: underline\">R</span><span style=\"color: #000000; text-decoration-color: #000000; background-color: #00ff00\"> </span>\n",
       "\n",
       "<span style=\"color: #000000; text-decoration-color: #000000; background-color: #ffa500\"> H </span> <span style=\"color: #000000; text-decoration-color: #000000; background-color: #ffa500\">   </span> <span style=\"color: #000000; text-decoration-color: #000000; background-color: #ff0000\"> F </span>   <span style=\"color: #000000; text-decoration-color: #000000; background-color: #00ff00\"> L </span> <span style=\"color: #000000; text-decoration-color: #000000; background-color: #00ff00\">   </span> <span style=\"color: #000000; text-decoration-color: #000000; background-color: #f8f8f8\"> J </span>   <span style=\"color: #000000; text-decoration-color: #000000; background-color: #ffa500\"> P </span> <span style=\"color: #000000; text-decoration-color: #000000; background-color: #ff0000\">   </span> <span style=\"color: #000000; text-decoration-color: #000000; background-color: #ff0000\"> N </span>   <span style=\"color: #000000; text-decoration-color: #000000; background-color: #f8f8f8\"> T </span> <span style=\"color: #000000; text-decoration-color: #000000; background-color: #009dff\">   </span> <span style=\"color: #000000; text-decoration-color: #000000; background-color: #00ff00\"> R </span>\n",
       "\n",
       "<span style=\"color: #000000; text-decoration-color: #000000; background-color: #f8f8f8\"> </span><span style=\"color: #000000; text-decoration-color: #000000; background-color: #f8f8f8; font-weight: bold; font-style: italic; text-decoration: underline\">H</span><span style=\"color: #000000; text-decoration-color: #000000; background-color: #f8f8f8\"> </span> <span style=\"color: #000000; text-decoration-color: #000000; background-color: #ffa500\"> G </span> <span style=\"color: #000000; text-decoration-color: #000000; background-color: #ff0000\"> </span><span style=\"color: #000000; text-decoration-color: #000000; background-color: #ff0000; font-weight: bold; font-style: italic; text-decoration: underline\">G</span><span style=\"color: #000000; text-decoration-color: #000000; background-color: #ff0000\"> </span>   <span style=\"color: #000000; text-decoration-color: #000000; background-color: #00ff00\"> </span><span style=\"color: #000000; text-decoration-color: #000000; background-color: #00ff00; font-weight: bold; font-style: italic; text-decoration: underline\">L</span><span style=\"color: #000000; text-decoration-color: #000000; background-color: #00ff00\"> </span> <span style=\"color: #000000; text-decoration-color: #000000; background-color: #00ff00\"> K </span> <span style=\"color: #000000; text-decoration-color: #000000; background-color: #00ff00\"> </span><span style=\"color: #000000; text-decoration-color: #000000; background-color: #00ff00; font-weight: bold; font-style: italic; text-decoration: underline\">K</span><span style=\"color: #000000; text-decoration-color: #000000; background-color: #00ff00\"> </span>   <span style=\"color: #000000; text-decoration-color: #000000; background-color: #ff0000\"> </span><span style=\"color: #000000; text-decoration-color: #000000; background-color: #ff0000; font-weight: bold; font-style: italic; text-decoration: underline\">P</span><span style=\"color: #000000; text-decoration-color: #000000; background-color: #ff0000\"> </span> <span style=\"color: #000000; text-decoration-color: #000000; background-color: #ff0000\"> O </span> <span style=\"color: #000000; text-decoration-color: #000000; background-color: #ff0000\"> </span><span style=\"color: #000000; text-decoration-color: #000000; background-color: #ff0000; font-weight: bold; font-style: italic; text-decoration: underline\">O</span><span style=\"color: #000000; text-decoration-color: #000000; background-color: #ff0000\"> </span>   <span style=\"color: #000000; text-decoration-color: #000000; background-color: #009dff\"> </span><span style=\"color: #000000; text-decoration-color: #000000; background-color: #009dff; font-weight: bold; font-style: italic; text-decoration: underline\">T</span><span style=\"color: #000000; text-decoration-color: #000000; background-color: #009dff\"> </span> <span style=\"color: #000000; text-decoration-color: #000000; background-color: #009dff\"> S </span> <span style=\"color: #000000; text-decoration-color: #000000; background-color: #ff0000\"> </span><span style=\"color: #000000; text-decoration-color: #000000; background-color: #ff0000; font-weight: bold; font-style: italic; text-decoration: underline\">S</span><span style=\"color: #000000; text-decoration-color: #000000; background-color: #ff0000\"> </span>\n",
       "\n",
       "\n",
       "              <span style=\"color: #000000; text-decoration-color: #000000; background-color: #f8f8f8\"> </span><span style=\"color: #000000; text-decoration-color: #000000; background-color: #f8f8f8; font-weight: bold; font-style: italic; text-decoration: underline\">U</span><span style=\"color: #000000; text-decoration-color: #000000; background-color: #f8f8f8\"> </span> <span style=\"color: #000000; text-decoration-color: #000000; background-color: #ffff00\"> U </span> <span style=\"color: #000000; text-decoration-color: #000000; background-color: #ffff00\"> </span><span style=\"color: #000000; text-decoration-color: #000000; background-color: #ffff00; font-weight: bold; font-style: italic; text-decoration: underline\">V</span><span style=\"color: #000000; text-decoration-color: #000000; background-color: #ffff00\"> </span>\n",
       "\n",
       "              <span style=\"color: #000000; text-decoration-color: #000000; background-color: #ffff00\"> X </span> <span style=\"color: #000000; text-decoration-color: #000000; background-color: #ffff00\">   </span> <span style=\"color: #000000; text-decoration-color: #000000; background-color: #ffff00\"> V </span>\n",
       "\n",
       "              <span style=\"color: #000000; text-decoration-color: #000000; background-color: #009dff\"> </span><span style=\"color: #000000; text-decoration-color: #000000; background-color: #009dff; font-weight: bold; font-style: italic; text-decoration: underline\">X</span><span style=\"color: #000000; text-decoration-color: #000000; background-color: #009dff\"> </span> <span style=\"color: #000000; text-decoration-color: #000000; background-color: #ffff00\"> W </span> <span style=\"color: #000000; text-decoration-color: #000000; background-color: #ffff00\"> </span><span style=\"color: #000000; text-decoration-color: #000000; background-color: #ffff00; font-weight: bold; font-style: italic; text-decoration: underline\">W</span><span style=\"color: #000000; text-decoration-color: #000000; background-color: #ffff00\"> </span>\n",
       "    \n",
       "</pre>\n"
      ],
      "text/plain": [
       "\n",
       "              \u001b[30;48;2;255;165;0m \u001b[0m\u001b[1;3;4;30;48;2;255;165;0mA\u001b[0m\u001b[30;48;2;255;165;0m \u001b[0m \u001b[30;48;2;248;248;248m A \u001b[0m \u001b[30;48;2;0;157;255m \u001b[0m\u001b[1;3;4;30;48;2;0;157;255mB\u001b[0m\u001b[30;48;2;0;157;255m \u001b[0m\n",
       "\n",
       "              \u001b[30;48;2;255;0;0m D \u001b[0m \u001b[30;48;2;248;248;248m   \u001b[0m \u001b[30;48;2;255;165;0m B \u001b[0m\n",
       "\n",
       "              \u001b[30;48;2;0;255;0m \u001b[0m\u001b[1;3;4;30;48;2;0;255;0mD\u001b[0m\u001b[30;48;2;0;255;0m \u001b[0m \u001b[30;48;2;248;248;248m C \u001b[0m \u001b[30;48;2;248;248;248m \u001b[0m\u001b[1;3;4;30;48;2;248;248;248mC\u001b[0m\u001b[30;48;2;248;248;248m \u001b[0m\n",
       "\n",
       "\n",
       "\u001b[30;48;2;248;248;248m \u001b[0m\u001b[1;3;4;30;48;2;248;248;248mE\u001b[0m\u001b[30;48;2;248;248;248m \u001b[0m \u001b[30;48;2;0;157;255m E \u001b[0m \u001b[30;48;2;255;165;0m \u001b[0m\u001b[1;3;4;30;48;2;255;165;0mF\u001b[0m\u001b[30;48;2;255;165;0m \u001b[0m   \u001b[30;48;2;255;255;0m \u001b[0m\u001b[1;3;4;30;48;2;255;255;0mI\u001b[0m\u001b[30;48;2;255;255;0m \u001b[0m \u001b[30;48;2;0;157;255m I \u001b[0m \u001b[30;48;2;0;157;255m \u001b[0m\u001b[1;3;4;30;48;2;0;157;255mJ\u001b[0m\u001b[30;48;2;0;157;255m \u001b[0m   \u001b[30;48;2;255;165;0m \u001b[0m\u001b[1;3;4;30;48;2;255;165;0mM\u001b[0m\u001b[30;48;2;255;165;0m \u001b[0m \u001b[30;48;2;0;157;255m M \u001b[0m \u001b[30;48;2;255;255;0m \u001b[0m\u001b[1;3;4;30;48;2;255;255;0mN\u001b[0m\u001b[30;48;2;255;255;0m \u001b[0m   \u001b[30;48;2;255;165;0m \u001b[0m\u001b[1;3;4;30;48;2;255;165;0mQ\u001b[0m\u001b[30;48;2;255;165;0m \u001b[0m \u001b[30;48;2;0;255;0m Q \u001b[0m \u001b[30;48;2;0;255;0m \u001b[0m\u001b[1;3;4;30;48;2;0;255;0mR\u001b[0m\u001b[30;48;2;0;255;0m \u001b[0m\n",
       "\n",
       "\u001b[30;48;2;255;165;0m H \u001b[0m \u001b[30;48;2;255;165;0m   \u001b[0m \u001b[30;48;2;255;0;0m F \u001b[0m   \u001b[30;48;2;0;255;0m L \u001b[0m \u001b[30;48;2;0;255;0m   \u001b[0m \u001b[30;48;2;248;248;248m J \u001b[0m   \u001b[30;48;2;255;165;0m P \u001b[0m \u001b[30;48;2;255;0;0m   \u001b[0m \u001b[30;48;2;255;0;0m N \u001b[0m   \u001b[30;48;2;248;248;248m T \u001b[0m \u001b[30;48;2;0;157;255m   \u001b[0m \u001b[30;48;2;0;255;0m R \u001b[0m\n",
       "\n",
       "\u001b[30;48;2;248;248;248m \u001b[0m\u001b[1;3;4;30;48;2;248;248;248mH\u001b[0m\u001b[30;48;2;248;248;248m \u001b[0m \u001b[30;48;2;255;165;0m G \u001b[0m \u001b[30;48;2;255;0;0m \u001b[0m\u001b[1;3;4;30;48;2;255;0;0mG\u001b[0m\u001b[30;48;2;255;0;0m \u001b[0m   \u001b[30;48;2;0;255;0m \u001b[0m\u001b[1;3;4;30;48;2;0;255;0mL\u001b[0m\u001b[30;48;2;0;255;0m \u001b[0m \u001b[30;48;2;0;255;0m K \u001b[0m \u001b[30;48;2;0;255;0m \u001b[0m\u001b[1;3;4;30;48;2;0;255;0mK\u001b[0m\u001b[30;48;2;0;255;0m \u001b[0m   \u001b[30;48;2;255;0;0m \u001b[0m\u001b[1;3;4;30;48;2;255;0;0mP\u001b[0m\u001b[30;48;2;255;0;0m \u001b[0m \u001b[30;48;2;255;0;0m O \u001b[0m \u001b[30;48;2;255;0;0m \u001b[0m\u001b[1;3;4;30;48;2;255;0;0mO\u001b[0m\u001b[30;48;2;255;0;0m \u001b[0m   \u001b[30;48;2;0;157;255m \u001b[0m\u001b[1;3;4;30;48;2;0;157;255mT\u001b[0m\u001b[30;48;2;0;157;255m \u001b[0m \u001b[30;48;2;0;157;255m S \u001b[0m \u001b[30;48;2;255;0;0m \u001b[0m\u001b[1;3;4;30;48;2;255;0;0mS\u001b[0m\u001b[30;48;2;255;0;0m \u001b[0m\n",
       "\n",
       "\n",
       "              \u001b[30;48;2;248;248;248m \u001b[0m\u001b[1;3;4;30;48;2;248;248;248mU\u001b[0m\u001b[30;48;2;248;248;248m \u001b[0m \u001b[30;48;2;255;255;0m U \u001b[0m \u001b[30;48;2;255;255;0m \u001b[0m\u001b[1;3;4;30;48;2;255;255;0mV\u001b[0m\u001b[30;48;2;255;255;0m \u001b[0m\n",
       "\n",
       "              \u001b[30;48;2;255;255;0m X \u001b[0m \u001b[30;48;2;255;255;0m   \u001b[0m \u001b[30;48;2;255;255;0m V \u001b[0m\n",
       "\n",
       "              \u001b[30;48;2;0;157;255m \u001b[0m\u001b[1;3;4;30;48;2;0;157;255mX\u001b[0m\u001b[30;48;2;0;157;255m \u001b[0m \u001b[30;48;2;255;255;0m W \u001b[0m \u001b[30;48;2;255;255;0m \u001b[0m\u001b[1;3;4;30;48;2;255;255;0mW\u001b[0m\u001b[30;48;2;255;255;0m \u001b[0m\n",
       "    \n"
      ]
     },
     "metadata": {},
     "output_type": "display_data"
    },
    {
     "data": {
      "text/html": [
       "<pre style=\"white-space:pre;overflow-x:auto;line-height:normal;font-family:Menlo,'DejaVu Sans Mono',consolas,'Courier New',monospace\">\n",
       "              <span style=\"color: #000000; text-decoration-color: #000000; background-color: #ff0000\"> </span><span style=\"color: #000000; text-decoration-color: #000000; background-color: #ff0000; font-weight: bold; font-style: italic; text-decoration: underline\">A</span><span style=\"color: #000000; text-decoration-color: #000000; background-color: #ff0000\"> </span> <span style=\"color: #000000; text-decoration-color: #000000; background-color: #ff0000\"> A </span> <span style=\"color: #000000; text-decoration-color: #000000; background-color: #ffff00\"> </span><span style=\"color: #000000; text-decoration-color: #000000; background-color: #ffff00; font-weight: bold; font-style: italic; text-decoration: underline\">B</span><span style=\"color: #000000; text-decoration-color: #000000; background-color: #ffff00\"> </span>\n",
       "\n",
       "              <span style=\"color: #000000; text-decoration-color: #000000; background-color: #f8f8f8\"> D </span> <span style=\"color: #000000; text-decoration-color: #000000; background-color: #f8f8f8\">   </span> <span style=\"color: #000000; text-decoration-color: #000000; background-color: #00ff00\"> B </span>\n",
       "\n",
       "              <span style=\"color: #000000; text-decoration-color: #000000; background-color: #00ff00\"> </span><span style=\"color: #000000; text-decoration-color: #000000; background-color: #00ff00; font-weight: bold; font-style: italic; text-decoration: underline\">D</span><span style=\"color: #000000; text-decoration-color: #000000; background-color: #00ff00\"> </span> <span style=\"color: #000000; text-decoration-color: #000000; background-color: #f8f8f8\"> C </span> <span style=\"color: #000000; text-decoration-color: #000000; background-color: #00ff00\"> </span><span style=\"color: #000000; text-decoration-color: #000000; background-color: #00ff00; font-weight: bold; font-style: italic; text-decoration: underline\">C</span><span style=\"color: #000000; text-decoration-color: #000000; background-color: #00ff00\"> </span>\n",
       "\n",
       "\n",
       "<span style=\"color: #000000; text-decoration-color: #000000; background-color: #f8f8f8\"> </span><span style=\"color: #000000; text-decoration-color: #000000; background-color: #f8f8f8; font-weight: bold; font-style: italic; text-decoration: underline\">E</span><span style=\"color: #000000; text-decoration-color: #000000; background-color: #f8f8f8\"> </span> <span style=\"color: #000000; text-decoration-color: #000000; background-color: #ffa500\"> E </span> <span style=\"color: #000000; text-decoration-color: #000000; background-color: #ff0000\"> </span><span style=\"color: #000000; text-decoration-color: #000000; background-color: #ff0000; font-weight: bold; font-style: italic; text-decoration: underline\">F</span><span style=\"color: #000000; text-decoration-color: #000000; background-color: #ff0000\"> </span>   <span style=\"color: #000000; text-decoration-color: #000000; background-color: #f8f8f8\"> </span><span style=\"color: #000000; text-decoration-color: #000000; background-color: #f8f8f8; font-weight: bold; font-style: italic; text-decoration: underline\">I</span><span style=\"color: #000000; text-decoration-color: #000000; background-color: #f8f8f8\"> </span> <span style=\"color: #000000; text-decoration-color: #000000; background-color: #009dff\"> I </span> <span style=\"color: #000000; text-decoration-color: #000000; background-color: #f8f8f8\"> </span><span style=\"color: #000000; text-decoration-color: #000000; background-color: #f8f8f8; font-weight: bold; font-style: italic; text-decoration: underline\">J</span><span style=\"color: #000000; text-decoration-color: #000000; background-color: #f8f8f8\"> </span>   <span style=\"color: #000000; text-decoration-color: #000000; background-color: #ffa500\"> </span><span style=\"color: #000000; text-decoration-color: #000000; background-color: #ffa500; font-weight: bold; font-style: italic; text-decoration: underline\">M</span><span style=\"color: #000000; text-decoration-color: #000000; background-color: #ffa500\"> </span> <span style=\"color: #000000; text-decoration-color: #000000; background-color: #f8f8f8\"> M </span> <span style=\"color: #000000; text-decoration-color: #000000; background-color: #ffa500\"> </span><span style=\"color: #000000; text-decoration-color: #000000; background-color: #ffa500; font-weight: bold; font-style: italic; text-decoration: underline\">N</span><span style=\"color: #000000; text-decoration-color: #000000; background-color: #ffa500\"> </span>   <span style=\"color: #000000; text-decoration-color: #000000; background-color: #009dff\"> </span><span style=\"color: #000000; text-decoration-color: #000000; background-color: #009dff; font-weight: bold; font-style: italic; text-decoration: underline\">Q</span><span style=\"color: #000000; text-decoration-color: #000000; background-color: #009dff\"> </span> <span style=\"color: #000000; text-decoration-color: #000000; background-color: #00ff00\"> Q </span> <span style=\"color: #000000; text-decoration-color: #000000; background-color: #009dff\"> </span><span style=\"color: #000000; text-decoration-color: #000000; background-color: #009dff; font-weight: bold; font-style: italic; text-decoration: underline\">R</span><span style=\"color: #000000; text-decoration-color: #000000; background-color: #009dff\"> </span>\n",
       "\n",
       "<span style=\"color: #000000; text-decoration-color: #000000; background-color: #00ff00\"> H </span> <span style=\"color: #000000; text-decoration-color: #000000; background-color: #ffa500\">   </span> <span style=\"color: #000000; text-decoration-color: #000000; background-color: #ff0000\"> F </span>   <span style=\"color: #000000; text-decoration-color: #000000; background-color: #f8f8f8\"> L </span> <span style=\"color: #000000; text-decoration-color: #000000; background-color: #00ff00\">   </span> <span style=\"color: #000000; text-decoration-color: #000000; background-color: #009dff\"> J </span>   <span style=\"color: #000000; text-decoration-color: #000000; background-color: #ff0000\"> P </span> <span style=\"color: #000000; text-decoration-color: #000000; background-color: #ff0000\">   </span> <span style=\"color: #000000; text-decoration-color: #000000; background-color: #009dff\"> N </span>   <span style=\"color: #000000; text-decoration-color: #000000; background-color: #ffa500\"> T </span> <span style=\"color: #000000; text-decoration-color: #000000; background-color: #009dff\">   </span> <span style=\"color: #000000; text-decoration-color: #000000; background-color: #ffa500\"> R </span>\n",
       "\n",
       "<span style=\"color: #000000; text-decoration-color: #000000; background-color: #f8f8f8\"> </span><span style=\"color: #000000; text-decoration-color: #000000; background-color: #f8f8f8; font-weight: bold; font-style: italic; text-decoration: underline\">H</span><span style=\"color: #000000; text-decoration-color: #000000; background-color: #f8f8f8\"> </span> <span style=\"color: #000000; text-decoration-color: #000000; background-color: #ffa500\"> G </span> <span style=\"color: #000000; text-decoration-color: #000000; background-color: #ffa500\"> </span><span style=\"color: #000000; text-decoration-color: #000000; background-color: #ffa500; font-weight: bold; font-style: italic; text-decoration: underline\">G</span><span style=\"color: #000000; text-decoration-color: #000000; background-color: #ffa500\"> </span>   <span style=\"color: #000000; text-decoration-color: #000000; background-color: #00ff00\"> </span><span style=\"color: #000000; text-decoration-color: #000000; background-color: #00ff00; font-weight: bold; font-style: italic; text-decoration: underline\">L</span><span style=\"color: #000000; text-decoration-color: #000000; background-color: #00ff00\"> </span> <span style=\"color: #000000; text-decoration-color: #000000; background-color: #00ff00\"> K </span> <span style=\"color: #000000; text-decoration-color: #000000; background-color: #ffff00\"> </span><span style=\"color: #000000; text-decoration-color: #000000; background-color: #ffff00; font-weight: bold; font-style: italic; text-decoration: underline\">K</span><span style=\"color: #000000; text-decoration-color: #000000; background-color: #ffff00\"> </span>   <span style=\"color: #000000; text-decoration-color: #000000; background-color: #ff0000\"> </span><span style=\"color: #000000; text-decoration-color: #000000; background-color: #ff0000; font-weight: bold; font-style: italic; text-decoration: underline\">P</span><span style=\"color: #000000; text-decoration-color: #000000; background-color: #ff0000\"> </span> <span style=\"color: #000000; text-decoration-color: #000000; background-color: #ff0000\"> O </span> <span style=\"color: #000000; text-decoration-color: #000000; background-color: #ff0000\"> </span><span style=\"color: #000000; text-decoration-color: #000000; background-color: #ff0000; font-weight: bold; font-style: italic; text-decoration: underline\">O</span><span style=\"color: #000000; text-decoration-color: #000000; background-color: #ff0000\"> </span>   <span style=\"color: #000000; text-decoration-color: #000000; background-color: #ffff00\"> </span><span style=\"color: #000000; text-decoration-color: #000000; background-color: #ffff00; font-weight: bold; font-style: italic; text-decoration: underline\">T</span><span style=\"color: #000000; text-decoration-color: #000000; background-color: #ffff00\"> </span> <span style=\"color: #000000; text-decoration-color: #000000; background-color: #009dff\"> S </span> <span style=\"color: #000000; text-decoration-color: #000000; background-color: #009dff\"> </span><span style=\"color: #000000; text-decoration-color: #000000; background-color: #009dff; font-weight: bold; font-style: italic; text-decoration: underline\">S</span><span style=\"color: #000000; text-decoration-color: #000000; background-color: #009dff\"> </span>\n",
       "\n",
       "\n",
       "              <span style=\"color: #000000; text-decoration-color: #000000; background-color: #ffff00\"> </span><span style=\"color: #000000; text-decoration-color: #000000; background-color: #ffff00; font-weight: bold; font-style: italic; text-decoration: underline\">U</span><span style=\"color: #000000; text-decoration-color: #000000; background-color: #ffff00\"> </span> <span style=\"color: #000000; text-decoration-color: #000000; background-color: #ffff00\"> U </span> <span style=\"color: #000000; text-decoration-color: #000000; background-color: #009dff\"> </span><span style=\"color: #000000; text-decoration-color: #000000; background-color: #009dff; font-weight: bold; font-style: italic; text-decoration: underline\">V</span><span style=\"color: #000000; text-decoration-color: #000000; background-color: #009dff\"> </span>\n",
       "\n",
       "              <span style=\"color: #000000; text-decoration-color: #000000; background-color: #ffff00\"> X </span> <span style=\"color: #000000; text-decoration-color: #000000; background-color: #ffff00\">   </span> <span style=\"color: #000000; text-decoration-color: #000000; background-color: #ffff00\"> V </span>\n",
       "\n",
       "              <span style=\"color: #000000; text-decoration-color: #000000; background-color: #ffa500\"> </span><span style=\"color: #000000; text-decoration-color: #000000; background-color: #ffa500; font-weight: bold; font-style: italic; text-decoration: underline\">X</span><span style=\"color: #000000; text-decoration-color: #000000; background-color: #ffa500\"> </span> <span style=\"color: #000000; text-decoration-color: #000000; background-color: #ffff00\"> W </span> <span style=\"color: #000000; text-decoration-color: #000000; background-color: #00ff00\"> </span><span style=\"color: #000000; text-decoration-color: #000000; background-color: #00ff00; font-weight: bold; font-style: italic; text-decoration: underline\">W</span><span style=\"color: #000000; text-decoration-color: #000000; background-color: #00ff00\"> </span>\n",
       "    \n",
       "</pre>\n"
      ],
      "text/plain": [
       "\n",
       "              \u001b[30;48;2;255;0;0m \u001b[0m\u001b[1;3;4;30;48;2;255;0;0mA\u001b[0m\u001b[30;48;2;255;0;0m \u001b[0m \u001b[30;48;2;255;0;0m A \u001b[0m \u001b[30;48;2;255;255;0m \u001b[0m\u001b[1;3;4;30;48;2;255;255;0mB\u001b[0m\u001b[30;48;2;255;255;0m \u001b[0m\n",
       "\n",
       "              \u001b[30;48;2;248;248;248m D \u001b[0m \u001b[30;48;2;248;248;248m   \u001b[0m \u001b[30;48;2;0;255;0m B \u001b[0m\n",
       "\n",
       "              \u001b[30;48;2;0;255;0m \u001b[0m\u001b[1;3;4;30;48;2;0;255;0mD\u001b[0m\u001b[30;48;2;0;255;0m \u001b[0m \u001b[30;48;2;248;248;248m C \u001b[0m \u001b[30;48;2;0;255;0m \u001b[0m\u001b[1;3;4;30;48;2;0;255;0mC\u001b[0m\u001b[30;48;2;0;255;0m \u001b[0m\n",
       "\n",
       "\n",
       "\u001b[30;48;2;248;248;248m \u001b[0m\u001b[1;3;4;30;48;2;248;248;248mE\u001b[0m\u001b[30;48;2;248;248;248m \u001b[0m \u001b[30;48;2;255;165;0m E \u001b[0m \u001b[30;48;2;255;0;0m \u001b[0m\u001b[1;3;4;30;48;2;255;0;0mF\u001b[0m\u001b[30;48;2;255;0;0m \u001b[0m   \u001b[30;48;2;248;248;248m \u001b[0m\u001b[1;3;4;30;48;2;248;248;248mI\u001b[0m\u001b[30;48;2;248;248;248m \u001b[0m \u001b[30;48;2;0;157;255m I \u001b[0m \u001b[30;48;2;248;248;248m \u001b[0m\u001b[1;3;4;30;48;2;248;248;248mJ\u001b[0m\u001b[30;48;2;248;248;248m \u001b[0m   \u001b[30;48;2;255;165;0m \u001b[0m\u001b[1;3;4;30;48;2;255;165;0mM\u001b[0m\u001b[30;48;2;255;165;0m \u001b[0m \u001b[30;48;2;248;248;248m M \u001b[0m \u001b[30;48;2;255;165;0m \u001b[0m\u001b[1;3;4;30;48;2;255;165;0mN\u001b[0m\u001b[30;48;2;255;165;0m \u001b[0m   \u001b[30;48;2;0;157;255m \u001b[0m\u001b[1;3;4;30;48;2;0;157;255mQ\u001b[0m\u001b[30;48;2;0;157;255m \u001b[0m \u001b[30;48;2;0;255;0m Q \u001b[0m \u001b[30;48;2;0;157;255m \u001b[0m\u001b[1;3;4;30;48;2;0;157;255mR\u001b[0m\u001b[30;48;2;0;157;255m \u001b[0m\n",
       "\n",
       "\u001b[30;48;2;0;255;0m H \u001b[0m \u001b[30;48;2;255;165;0m   \u001b[0m \u001b[30;48;2;255;0;0m F \u001b[0m   \u001b[30;48;2;248;248;248m L \u001b[0m \u001b[30;48;2;0;255;0m   \u001b[0m \u001b[30;48;2;0;157;255m J \u001b[0m   \u001b[30;48;2;255;0;0m P \u001b[0m \u001b[30;48;2;255;0;0m   \u001b[0m \u001b[30;48;2;0;157;255m N \u001b[0m   \u001b[30;48;2;255;165;0m T \u001b[0m \u001b[30;48;2;0;157;255m   \u001b[0m \u001b[30;48;2;255;165;0m R \u001b[0m\n",
       "\n",
       "\u001b[30;48;2;248;248;248m \u001b[0m\u001b[1;3;4;30;48;2;248;248;248mH\u001b[0m\u001b[30;48;2;248;248;248m \u001b[0m \u001b[30;48;2;255;165;0m G \u001b[0m \u001b[30;48;2;255;165;0m \u001b[0m\u001b[1;3;4;30;48;2;255;165;0mG\u001b[0m\u001b[30;48;2;255;165;0m \u001b[0m   \u001b[30;48;2;0;255;0m \u001b[0m\u001b[1;3;4;30;48;2;0;255;0mL\u001b[0m\u001b[30;48;2;0;255;0m \u001b[0m \u001b[30;48;2;0;255;0m K \u001b[0m \u001b[30;48;2;255;255;0m \u001b[0m\u001b[1;3;4;30;48;2;255;255;0mK\u001b[0m\u001b[30;48;2;255;255;0m \u001b[0m   \u001b[30;48;2;255;0;0m \u001b[0m\u001b[1;3;4;30;48;2;255;0;0mP\u001b[0m\u001b[30;48;2;255;0;0m \u001b[0m \u001b[30;48;2;255;0;0m O \u001b[0m \u001b[30;48;2;255;0;0m \u001b[0m\u001b[1;3;4;30;48;2;255;0;0mO\u001b[0m\u001b[30;48;2;255;0;0m \u001b[0m   \u001b[30;48;2;255;255;0m \u001b[0m\u001b[1;3;4;30;48;2;255;255;0mT\u001b[0m\u001b[30;48;2;255;255;0m \u001b[0m \u001b[30;48;2;0;157;255m S \u001b[0m \u001b[30;48;2;0;157;255m \u001b[0m\u001b[1;3;4;30;48;2;0;157;255mS\u001b[0m\u001b[30;48;2;0;157;255m \u001b[0m\n",
       "\n",
       "\n",
       "              \u001b[30;48;2;255;255;0m \u001b[0m\u001b[1;3;4;30;48;2;255;255;0mU\u001b[0m\u001b[30;48;2;255;255;0m \u001b[0m \u001b[30;48;2;255;255;0m U \u001b[0m \u001b[30;48;2;0;157;255m \u001b[0m\u001b[1;3;4;30;48;2;0;157;255mV\u001b[0m\u001b[30;48;2;0;157;255m \u001b[0m\n",
       "\n",
       "              \u001b[30;48;2;255;255;0m X \u001b[0m \u001b[30;48;2;255;255;0m   \u001b[0m \u001b[30;48;2;255;255;0m V \u001b[0m\n",
       "\n",
       "              \u001b[30;48;2;255;165;0m \u001b[0m\u001b[1;3;4;30;48;2;255;165;0mX\u001b[0m\u001b[30;48;2;255;165;0m \u001b[0m \u001b[30;48;2;255;255;0m W \u001b[0m \u001b[30;48;2;0;255;0m \u001b[0m\u001b[1;3;4;30;48;2;0;255;0mW\u001b[0m\u001b[30;48;2;0;255;0m \u001b[0m\n",
       "    \n"
      ]
     },
     "metadata": {},
     "output_type": "display_data"
    },
    {
     "data": {
      "text/html": [
       "<pre style=\"white-space:pre;overflow-x:auto;line-height:normal;font-family:Menlo,'DejaVu Sans Mono',consolas,'Courier New',monospace\">\n",
       "              <span style=\"color: #000000; text-decoration-color: #000000; background-color: #f8f8f8\"> </span><span style=\"color: #000000; text-decoration-color: #000000; background-color: #f8f8f8; font-weight: bold; font-style: italic; text-decoration: underline\">A</span><span style=\"color: #000000; text-decoration-color: #000000; background-color: #f8f8f8\"> </span> <span style=\"color: #000000; text-decoration-color: #000000; background-color: #ff0000\"> A </span> <span style=\"color: #000000; text-decoration-color: #000000; background-color: #f8f8f8\"> </span><span style=\"color: #000000; text-decoration-color: #000000; background-color: #f8f8f8; font-weight: bold; font-style: italic; text-decoration: underline\">B</span><span style=\"color: #000000; text-decoration-color: #000000; background-color: #f8f8f8\"> </span>\n",
       "\n",
       "              <span style=\"color: #000000; text-decoration-color: #000000; background-color: #f8f8f8\"> D </span> <span style=\"color: #000000; text-decoration-color: #000000; background-color: #f8f8f8\">   </span> <span style=\"color: #000000; text-decoration-color: #000000; background-color: #009dff\"> B </span>\n",
       "\n",
       "              <span style=\"color: #000000; text-decoration-color: #000000; background-color: #ffff00\"> </span><span style=\"color: #000000; text-decoration-color: #000000; background-color: #ffff00; font-weight: bold; font-style: italic; text-decoration: underline\">D</span><span style=\"color: #000000; text-decoration-color: #000000; background-color: #ffff00\"> </span> <span style=\"color: #000000; text-decoration-color: #000000; background-color: #ff0000\"> C </span> <span style=\"color: #000000; text-decoration-color: #000000; background-color: #009dff\"> </span><span style=\"color: #000000; text-decoration-color: #000000; background-color: #009dff; font-weight: bold; font-style: italic; text-decoration: underline\">C</span><span style=\"color: #000000; text-decoration-color: #000000; background-color: #009dff\"> </span>\n",
       "\n",
       "\n",
       "<span style=\"color: #000000; text-decoration-color: #000000; background-color: #00ff00\"> </span><span style=\"color: #000000; text-decoration-color: #000000; background-color: #00ff00; font-weight: bold; font-style: italic; text-decoration: underline\">E</span><span style=\"color: #000000; text-decoration-color: #000000; background-color: #00ff00\"> </span> <span style=\"color: #000000; text-decoration-color: #000000; background-color: #00ff00\"> E </span> <span style=\"color: #000000; text-decoration-color: #000000; background-color: #009dff\"> </span><span style=\"color: #000000; text-decoration-color: #000000; background-color: #009dff; font-weight: bold; font-style: italic; text-decoration: underline\">F</span><span style=\"color: #000000; text-decoration-color: #000000; background-color: #009dff\"> </span>   <span style=\"color: #000000; text-decoration-color: #000000; background-color: #ff0000\"> </span><span style=\"color: #000000; text-decoration-color: #000000; background-color: #ff0000; font-weight: bold; font-style: italic; text-decoration: underline\">I</span><span style=\"color: #000000; text-decoration-color: #000000; background-color: #ff0000\"> </span> <span style=\"color: #000000; text-decoration-color: #000000; background-color: #00ff00\"> I </span> <span style=\"color: #000000; text-decoration-color: #000000; background-color: #f8f8f8\"> </span><span style=\"color: #000000; text-decoration-color: #000000; background-color: #f8f8f8; font-weight: bold; font-style: italic; text-decoration: underline\">J</span><span style=\"color: #000000; text-decoration-color: #000000; background-color: #f8f8f8\"> </span>   <span style=\"color: #000000; text-decoration-color: #000000; background-color: #ff0000\"> </span><span style=\"color: #000000; text-decoration-color: #000000; background-color: #ff0000; font-weight: bold; font-style: italic; text-decoration: underline\">M</span><span style=\"color: #000000; text-decoration-color: #000000; background-color: #ff0000\"> </span> <span style=\"color: #000000; text-decoration-color: #000000; background-color: #ff0000\"> M </span> <span style=\"color: #000000; text-decoration-color: #000000; background-color: #00ff00\"> </span><span style=\"color: #000000; text-decoration-color: #000000; background-color: #00ff00; font-weight: bold; font-style: italic; text-decoration: underline\">N</span><span style=\"color: #000000; text-decoration-color: #000000; background-color: #00ff00\"> </span>   <span style=\"color: #000000; text-decoration-color: #000000; background-color: #ff0000\"> </span><span style=\"color: #000000; text-decoration-color: #000000; background-color: #ff0000; font-weight: bold; font-style: italic; text-decoration: underline\">Q</span><span style=\"color: #000000; text-decoration-color: #000000; background-color: #ff0000\"> </span> <span style=\"color: #000000; text-decoration-color: #000000; background-color: #f8f8f8\"> Q </span> <span style=\"color: #000000; text-decoration-color: #000000; background-color: #ffa500\"> </span><span style=\"color: #000000; text-decoration-color: #000000; background-color: #ffa500; font-weight: bold; font-style: italic; text-decoration: underline\">R</span><span style=\"color: #000000; text-decoration-color: #000000; background-color: #ffa500\"> </span>\n",
       "\n",
       "<span style=\"color: #000000; text-decoration-color: #000000; background-color: #ffa500\"> H </span> <span style=\"color: #000000; text-decoration-color: #000000; background-color: #ffa500\">   </span> <span style=\"color: #000000; text-decoration-color: #000000; background-color: #f8f8f8\"> F </span>   <span style=\"color: #000000; text-decoration-color: #000000; background-color: #ffa500\"> L </span> <span style=\"color: #000000; text-decoration-color: #000000; background-color: #00ff00\">   </span> <span style=\"color: #000000; text-decoration-color: #000000; background-color: #f8f8f8\"> J </span>   <span style=\"color: #000000; text-decoration-color: #000000; background-color: #009dff\"> P </span> <span style=\"color: #000000; text-decoration-color: #000000; background-color: #ff0000\">   </span> <span style=\"color: #000000; text-decoration-color: #000000; background-color: #009dff\"> N </span>   <span style=\"color: #000000; text-decoration-color: #000000; background-color: #ffa500\"> T </span> <span style=\"color: #000000; text-decoration-color: #000000; background-color: #009dff\">   </span> <span style=\"color: #000000; text-decoration-color: #000000; background-color: #00ff00\"> R </span>\n",
       "\n",
       "<span style=\"color: #000000; text-decoration-color: #000000; background-color: #ffa500\"> </span><span style=\"color: #000000; text-decoration-color: #000000; background-color: #ffa500; font-weight: bold; font-style: italic; text-decoration: underline\">H</span><span style=\"color: #000000; text-decoration-color: #000000; background-color: #ffa500\"> </span> <span style=\"color: #000000; text-decoration-color: #000000; background-color: #ffa500\"> G </span> <span style=\"color: #000000; text-decoration-color: #000000; background-color: #00ff00\"> </span><span style=\"color: #000000; text-decoration-color: #000000; background-color: #00ff00; font-weight: bold; font-style: italic; text-decoration: underline\">G</span><span style=\"color: #000000; text-decoration-color: #000000; background-color: #00ff00\"> </span>   <span style=\"color: #000000; text-decoration-color: #000000; background-color: #ffff00\"> </span><span style=\"color: #000000; text-decoration-color: #000000; background-color: #ffff00; font-weight: bold; font-style: italic; text-decoration: underline\">L</span><span style=\"color: #000000; text-decoration-color: #000000; background-color: #ffff00\"> </span> <span style=\"color: #000000; text-decoration-color: #000000; background-color: #00ff00\"> K </span> <span style=\"color: #000000; text-decoration-color: #000000; background-color: #009dff\"> </span><span style=\"color: #000000; text-decoration-color: #000000; background-color: #009dff; font-weight: bold; font-style: italic; text-decoration: underline\">K</span><span style=\"color: #000000; text-decoration-color: #000000; background-color: #009dff\"> </span>   <span style=\"color: #000000; text-decoration-color: #000000; background-color: #ffa500\"> </span><span style=\"color: #000000; text-decoration-color: #000000; background-color: #ffa500; font-weight: bold; font-style: italic; text-decoration: underline\">P</span><span style=\"color: #000000; text-decoration-color: #000000; background-color: #ffa500\"> </span> <span style=\"color: #000000; text-decoration-color: #000000; background-color: #ff0000\"> O </span> <span style=\"color: #000000; text-decoration-color: #000000; background-color: #ffff00\"> </span><span style=\"color: #000000; text-decoration-color: #000000; background-color: #ffff00; font-weight: bold; font-style: italic; text-decoration: underline\">O</span><span style=\"color: #000000; text-decoration-color: #000000; background-color: #ffff00\"> </span>   <span style=\"color: #000000; text-decoration-color: #000000; background-color: #00ff00\"> </span><span style=\"color: #000000; text-decoration-color: #000000; background-color: #00ff00; font-weight: bold; font-style: italic; text-decoration: underline\">T</span><span style=\"color: #000000; text-decoration-color: #000000; background-color: #00ff00\"> </span> <span style=\"color: #000000; text-decoration-color: #000000; background-color: #009dff\"> S </span> <span style=\"color: #000000; text-decoration-color: #000000; background-color: #f8f8f8\"> </span><span style=\"color: #000000; text-decoration-color: #000000; background-color: #f8f8f8; font-weight: bold; font-style: italic; text-decoration: underline\">S</span><span style=\"color: #000000; text-decoration-color: #000000; background-color: #f8f8f8\"> </span>\n",
       "\n",
       "\n",
       "              <span style=\"color: #000000; text-decoration-color: #000000; background-color: #ffa500\"> </span><span style=\"color: #000000; text-decoration-color: #000000; background-color: #ffa500; font-weight: bold; font-style: italic; text-decoration: underline\">U</span><span style=\"color: #000000; text-decoration-color: #000000; background-color: #ffa500\"> </span> <span style=\"color: #000000; text-decoration-color: #000000; background-color: #ffff00\"> U </span> <span style=\"color: #000000; text-decoration-color: #000000; background-color: #ffff00\"> </span><span style=\"color: #000000; text-decoration-color: #000000; background-color: #ffff00; font-weight: bold; font-style: italic; text-decoration: underline\">V</span><span style=\"color: #000000; text-decoration-color: #000000; background-color: #ffff00\"> </span>\n",
       "\n",
       "              <span style=\"color: #000000; text-decoration-color: #000000; background-color: #ffff00\"> X </span> <span style=\"color: #000000; text-decoration-color: #000000; background-color: #ffff00\">   </span> <span style=\"color: #000000; text-decoration-color: #000000; background-color: #ffff00\"> V </span>\n",
       "\n",
       "              <span style=\"color: #000000; text-decoration-color: #000000; background-color: #009dff\"> </span><span style=\"color: #000000; text-decoration-color: #000000; background-color: #009dff; font-weight: bold; font-style: italic; text-decoration: underline\">X</span><span style=\"color: #000000; text-decoration-color: #000000; background-color: #009dff\"> </span> <span style=\"color: #000000; text-decoration-color: #000000; background-color: #ffff00\"> W </span> <span style=\"color: #000000; text-decoration-color: #000000; background-color: #ff0000\"> </span><span style=\"color: #000000; text-decoration-color: #000000; background-color: #ff0000; font-weight: bold; font-style: italic; text-decoration: underline\">W</span><span style=\"color: #000000; text-decoration-color: #000000; background-color: #ff0000\"> </span>\n",
       "    \n",
       "</pre>\n"
      ],
      "text/plain": [
       "\n",
       "              \u001b[30;48;2;248;248;248m \u001b[0m\u001b[1;3;4;30;48;2;248;248;248mA\u001b[0m\u001b[30;48;2;248;248;248m \u001b[0m \u001b[30;48;2;255;0;0m A \u001b[0m \u001b[30;48;2;248;248;248m \u001b[0m\u001b[1;3;4;30;48;2;248;248;248mB\u001b[0m\u001b[30;48;2;248;248;248m \u001b[0m\n",
       "\n",
       "              \u001b[30;48;2;248;248;248m D \u001b[0m \u001b[30;48;2;248;248;248m   \u001b[0m \u001b[30;48;2;0;157;255m B \u001b[0m\n",
       "\n",
       "              \u001b[30;48;2;255;255;0m \u001b[0m\u001b[1;3;4;30;48;2;255;255;0mD\u001b[0m\u001b[30;48;2;255;255;0m \u001b[0m \u001b[30;48;2;255;0;0m C \u001b[0m \u001b[30;48;2;0;157;255m \u001b[0m\u001b[1;3;4;30;48;2;0;157;255mC\u001b[0m\u001b[30;48;2;0;157;255m \u001b[0m\n",
       "\n",
       "\n",
       "\u001b[30;48;2;0;255;0m \u001b[0m\u001b[1;3;4;30;48;2;0;255;0mE\u001b[0m\u001b[30;48;2;0;255;0m \u001b[0m \u001b[30;48;2;0;255;0m E \u001b[0m \u001b[30;48;2;0;157;255m \u001b[0m\u001b[1;3;4;30;48;2;0;157;255mF\u001b[0m\u001b[30;48;2;0;157;255m \u001b[0m   \u001b[30;48;2;255;0;0m \u001b[0m\u001b[1;3;4;30;48;2;255;0;0mI\u001b[0m\u001b[30;48;2;255;0;0m \u001b[0m \u001b[30;48;2;0;255;0m I \u001b[0m \u001b[30;48;2;248;248;248m \u001b[0m\u001b[1;3;4;30;48;2;248;248;248mJ\u001b[0m\u001b[30;48;2;248;248;248m \u001b[0m   \u001b[30;48;2;255;0;0m \u001b[0m\u001b[1;3;4;30;48;2;255;0;0mM\u001b[0m\u001b[30;48;2;255;0;0m \u001b[0m \u001b[30;48;2;255;0;0m M \u001b[0m \u001b[30;48;2;0;255;0m \u001b[0m\u001b[1;3;4;30;48;2;0;255;0mN\u001b[0m\u001b[30;48;2;0;255;0m \u001b[0m   \u001b[30;48;2;255;0;0m \u001b[0m\u001b[1;3;4;30;48;2;255;0;0mQ\u001b[0m\u001b[30;48;2;255;0;0m \u001b[0m \u001b[30;48;2;248;248;248m Q \u001b[0m \u001b[30;48;2;255;165;0m \u001b[0m\u001b[1;3;4;30;48;2;255;165;0mR\u001b[0m\u001b[30;48;2;255;165;0m \u001b[0m\n",
       "\n",
       "\u001b[30;48;2;255;165;0m H \u001b[0m \u001b[30;48;2;255;165;0m   \u001b[0m \u001b[30;48;2;248;248;248m F \u001b[0m   \u001b[30;48;2;255;165;0m L \u001b[0m \u001b[30;48;2;0;255;0m   \u001b[0m \u001b[30;48;2;248;248;248m J \u001b[0m   \u001b[30;48;2;0;157;255m P \u001b[0m \u001b[30;48;2;255;0;0m   \u001b[0m \u001b[30;48;2;0;157;255m N \u001b[0m   \u001b[30;48;2;255;165;0m T \u001b[0m \u001b[30;48;2;0;157;255m   \u001b[0m \u001b[30;48;2;0;255;0m R \u001b[0m\n",
       "\n",
       "\u001b[30;48;2;255;165;0m \u001b[0m\u001b[1;3;4;30;48;2;255;165;0mH\u001b[0m\u001b[30;48;2;255;165;0m \u001b[0m \u001b[30;48;2;255;165;0m G \u001b[0m \u001b[30;48;2;0;255;0m \u001b[0m\u001b[1;3;4;30;48;2;0;255;0mG\u001b[0m\u001b[30;48;2;0;255;0m \u001b[0m   \u001b[30;48;2;255;255;0m \u001b[0m\u001b[1;3;4;30;48;2;255;255;0mL\u001b[0m\u001b[30;48;2;255;255;0m \u001b[0m \u001b[30;48;2;0;255;0m K \u001b[0m \u001b[30;48;2;0;157;255m \u001b[0m\u001b[1;3;4;30;48;2;0;157;255mK\u001b[0m\u001b[30;48;2;0;157;255m \u001b[0m   \u001b[30;48;2;255;165;0m \u001b[0m\u001b[1;3;4;30;48;2;255;165;0mP\u001b[0m\u001b[30;48;2;255;165;0m \u001b[0m \u001b[30;48;2;255;0;0m O \u001b[0m \u001b[30;48;2;255;255;0m \u001b[0m\u001b[1;3;4;30;48;2;255;255;0mO\u001b[0m\u001b[30;48;2;255;255;0m \u001b[0m   \u001b[30;48;2;0;255;0m \u001b[0m\u001b[1;3;4;30;48;2;0;255;0mT\u001b[0m\u001b[30;48;2;0;255;0m \u001b[0m \u001b[30;48;2;0;157;255m S \u001b[0m \u001b[30;48;2;248;248;248m \u001b[0m\u001b[1;3;4;30;48;2;248;248;248mS\u001b[0m\u001b[30;48;2;248;248;248m \u001b[0m\n",
       "\n",
       "\n",
       "              \u001b[30;48;2;255;165;0m \u001b[0m\u001b[1;3;4;30;48;2;255;165;0mU\u001b[0m\u001b[30;48;2;255;165;0m \u001b[0m \u001b[30;48;2;255;255;0m U \u001b[0m \u001b[30;48;2;255;255;0m \u001b[0m\u001b[1;3;4;30;48;2;255;255;0mV\u001b[0m\u001b[30;48;2;255;255;0m \u001b[0m\n",
       "\n",
       "              \u001b[30;48;2;255;255;0m X \u001b[0m \u001b[30;48;2;255;255;0m   \u001b[0m \u001b[30;48;2;255;255;0m V \u001b[0m\n",
       "\n",
       "              \u001b[30;48;2;0;157;255m \u001b[0m\u001b[1;3;4;30;48;2;0;157;255mX\u001b[0m\u001b[30;48;2;0;157;255m \u001b[0m \u001b[30;48;2;255;255;0m W \u001b[0m \u001b[30;48;2;255;0;0m \u001b[0m\u001b[1;3;4;30;48;2;255;0;0mW\u001b[0m\u001b[30;48;2;255;0;0m \u001b[0m\n",
       "    \n"
      ]
     },
     "metadata": {},
     "output_type": "display_data"
    }
   ],
   "source": [
    "model_path = \"models/model_edges_first_layer.pt\"\n",
    "obs_size = 54\n",
    "n_actions = 18\n",
    "\n",
    "agent = DQNAgent(\n",
    "    obs_dim=obs_size,\n",
    "    n_actions=n_actions,\n",
    "    lr=1e-3,\n",
    "    gamma=0.99,\n",
    "    batch_size=64,\n",
    "    buffer_capacity=10_000\n",
    ")\n",
    "\n",
    "agent.policy_net.load_state_dict(torch.load(model_path))\n",
    "agent.policy_net.eval()\n",
    "\n",
    "env = RubiksCubeEnv()\n",
    "\n",
    "num_eval_episodes = 3\n",
    "max_steps = 100\n",
    "\n",
    "obs, _ = env.reset()\n",
    "\n",
    "l_episodes = []\n",
    "l_l_actions = []\n",
    "\n",
    "for episode in range(1, num_eval_episodes+1):\n",
    "    l_actions = []\n",
    "    obs, _ = env.reset()\n",
    "    done = False\n",
    "    steps = 0\n",
    "    total_reward = 0\n",
    "    while not done and steps < max_steps:\n",
    "        action = agent.select_action(obs, epsilon=0.00)\n",
    "        l_actions.append(action)\n",
    "        obs, reward, terminated, truncated, _ = env.step(action)\n",
    "        done = terminated or truncated\n",
    "        total_reward += reward\n",
    "        steps += 1\n",
    "\n",
    "    solved = count_solved_edges_first_layer(env.cube) == 4\n",
    "    # print(f\"Solved edges: {count_solved_edges_first_layer(env.cube)} | Steps: {steps} | Total reward: {total_reward:.2f}\")\n",
    "    # print(l_actions)\n",
    "\n",
    "    if done == False:\n",
    "        print(\"PANIK\")\n",
    "\n",
    "    env.render()\n",
    "    l_episodes.append(episode)\n",
    "    l_l_actions.append(l_actions)\n",
    "\n",
    "env.close()"
   ]
  },
  {
   "cell_type": "code",
   "execution_count": 76,
   "id": "b13c6376",
   "metadata": {},
   "outputs": [
    {
     "data": {
      "text/plain": [
       "[[3, 0, 15, 5, 14, 6, 1, 7, 11],\n",
       " [12, 17, 8, 13, 0, 7, 5, 1, 6, 11],\n",
       " [3, 8, 1, 13, 9, 14],\n",
       " [16, 11, 13, 4, 12, 0, 13, 11],\n",
       " [0, 11, 2, 14, 6, 1, 7, 3, 6],\n",
       " [17, 5, 15, 5, 17, 3, 17, 14, 16, 9, 14, 1, 5],\n",
       " [10, 1, 5, 1, 4, 12, 3, 17, 3, 17, 14, 9, 14, 1, 8],\n",
       " [0, 4, 15, 12, 11, 1, 5],\n",
       " [8, 10, 5, 11, 6, 11, 0, 5],\n",
       " [6, 12, 17, 1, 11, 1, 14, 1, 5],\n",
       " [2, 6, 13, 4, 13, 11],\n",
       " [17, 3, 1, 8, 10, 12, 1, 5, 13],\n",
       " [1, 9, 4, 7, 0, 5, 9, 12],\n",
       " [0, 13, 17, 8, 0, 5, 14, 9, 3, 0, 4, 14],\n",
       " [17, 8, 0, 5, 11, 12],\n",
       " [9, 6, 11, 1, 10, 14, 7, 3, 6],\n",
       " [13, 11, 1, 8],\n",
       " [15, 6, 2, 14, 8, 1, 11, 3, 7, 4],\n",
       " [10, 5, 8, 1, 12, 4],\n",
       " [16, 7, 16, 5, 13, 10],\n",
       " [15, 3, 1, 11, 13, 2, 14, 0, 5],\n",
       " [10, 16, 13, 3, 0, 11],\n",
       " [12, 16, 2, 17, 4, 1, 10, 8, 3],\n",
       " [15, 10, 7, 1, 5, 13, 10],\n",
       " [0, 11, 7, 5, 12, 3, 1, 8, 2, 5],\n",
       " [6, 10, 7, 5, 12, 0, 5, 1, 8],\n",
       " [17, 0, 13, 4, 16, 10, 13, 11, 3],\n",
       " [12, 3, 15, 9, 12, 3, 7, 4],\n",
       " [10, 6, 3, 6, 0, 14],\n",
       " [1, 9, 7, 12, 4, 16, 12, 0, 5, 1, 8],\n",
       " [4, 6, 16, 0, 9, 5, 0, 8, 9],\n",
       " [15, 7, 0, 14, 5, 6],\n",
       " [16, 2, 15, 4, 16, 10, 3, 10, 3, 1, 4, 13, 4, 0, 3, 9, 14],\n",
       " [16, 9, 0, 13, 9, 5, 7, 5],\n",
       " [12, 3, 16, 0, 4, 9, 14],\n",
       " [17, 14, 4, 13, 9, 1, 14],\n",
       " [15, 12, 10, 2, 8, 1, 13, 11, 6, 0, 7, 5],\n",
       " [6, 1, 3, 9, 5, 12, 5, 8],\n",
       " [1, 3, 15, 14, 1, 11, 12, 1, 13, 5],\n",
       " [8, 5, 1, 10, 4, 12, 3, 0, 8],\n",
       " [17, 13, 5, 16, 12, 5, 1, 4, 8, 9],\n",
       " [7, 14, 1, 11, 7, 3, 8],\n",
       " [12, 11, 17, 0, 13, 10, 3, 7, 4],\n",
       " [17, 0, 12, 11, 3],\n",
       " [14, 4, 9, 15, 6, 10, 8, 0, 5],\n",
       " [9, 3, 12, 9, 15, 1, 4, 10, 8],\n",
       " [3, 7, 12, 11, 1, 3, 8],\n",
       " [10, 3, 12, 1, 6, 10, 12, 1, 5, 13],\n",
       " [2, 13, 1, 10, 6, 13, 3, 0, 3, 14],\n",
       " [2, 11, 0, 8, 12, 4, 13],\n",
       " [5, 7, 16, 1, 7, 11, 12],\n",
       " [17, 10, 1, 14, 1, 5, 1, 11, 13, 1, 12, 5],\n",
       " [9, 1, 8, 14, 3, 11, 7, 1, 7, 11],\n",
       " [15, 10, 1, 14, 1, 4, 1, 11, 7, 2, 8, 0, 7, 5],\n",
       " [15, 7, 3, 0, 8, 14],\n",
       " [16, 7, 2, 5, 10],\n",
       " [4, 7, 12, 4, 9, 1, 10, 14],\n",
       " [16, 8, 10, 7, 14],\n",
       " [17, 1, 9, 14, 1, 6, 11],\n",
       " [6, 13, 1, 5, 1, 11, 2, 14],\n",
       " [4, 9, 17, 12, 4, 6, 9],\n",
       " [16, 3, 1, 5, 11, 12, 7, 3, 6],\n",
       " [12, 0, 11, 5, 6, 4, 0, 7, 5],\n",
       " [6, 16, 1, 4, 12, 5],\n",
       " [8, 0, 14, 0, 11],\n",
       " [3, 7, 11, 12, 4, 13],\n",
       " [16, 9, 2, 13, 1, 8, 13, 5, 14, 6, 0, 7, 5],\n",
       " [17, 3, 1, 8, 12, 4, 1, 9, 13, 10],\n",
       " [17, 0, 14, 10, 6, 0, 11],\n",
       " [7, 13, 1, 17, 10, 16, 13, 8, 11],\n",
       " [12, 11, 0, 13, 8, 11],\n",
       " [6, 0, 14, 2, 5, 9],\n",
       " [12, 10, 6, 4, 14, 1, 11],\n",
       " [1, 8, 4, 6, 1, 8, 3, 0, 5, 1, 6, 11],\n",
       " [16, 2, 8, 13, 0, 9, 14],\n",
       " [8, 13, 0, 13, 11, 1, 12, 4, 13],\n",
       " [17, 8, 0, 5, 0, 8, 13, 9, 12],\n",
       " [10, 14, 7, 15, 7, 4],\n",
       " [2, 17, 8, 14, 7, 0, 5, 6],\n",
       " [14, 9, 13, 0, 3, 7],\n",
       " [9, 6, 10, 1, 5, 2, 14],\n",
       " [10, 17, 12, 4, 14, 0, 8],\n",
       " [0, 6, 15, 14, 2, 5, 10],\n",
       " [4, 12, 4, 1, 13, 9, 12],\n",
       " [17, 9, 1, 16, 10, 14, 7, 3, 6],\n",
       " [16, 6, 13, 2, 8, 0, 11],\n",
       " [3, 1, 10, 8, 1, 5, 14, 9, 12],\n",
       " [17, 1, 7, 3, 7, 11, 12, 0, 13, 11],\n",
       " [5, 6, 1, 13, 17, 11, 14, 1, 8, 14, 4, 14],\n",
       " [11, 15, 3, 8, 10, 7],\n",
       " [2, 4, 8, 0, 11, 12, 1, 12, 4, 13],\n",
       " [4, 17, 12, 8, 4, 6, 0, 7, 5],\n",
       " [1, 3, 17, 11, 8, 12, 3, 8],\n",
       " [11, 13, 7, 4, 1, 8, 2, 5, 9],\n",
       " [7, 12, 4, 16, 1, 17, 10, 8, 0, 5],\n",
       " [17, 1, 14, 6],\n",
       " [12, 17, 1, 8, 2, 9, 14],\n",
       " [5, 1, 8, 12, 4, 7, 5, 7, 1, 6, 11],\n",
       " [15, 2, 8, 10, 14, 6],\n",
       " [3, 16, 4, 17, 12, 0, 4, 16, 7, 9, 14]]"
      ]
     },
     "execution_count": 76,
     "metadata": {},
     "output_type": "execute_result"
    }
   ],
   "source": [
    "l_l_actions"
   ]
  },
  {
   "cell_type": "code",
   "execution_count": 97,
   "id": "2b8fbf93",
   "metadata": {},
   "outputs": [
    {
     "data": {
      "application/vnd.plotly.v1+json": {
       "config": {
        "plotlyServerURL": "https://plot.ly"
       },
       "data": [
        {
         "name": "Moves count",
         "type": "scatter",
         "x": {
          "bdata": "AQIDBAUGBwgJCgsMDQ4PEBESExQVFhcYGRobHB0eHyAhIiMkJSYnKCkqKywtLi8wMTIzNDU2Nzg5Ojs8PT4/QEFCQ0RFRkdISUpLTE1OT1BRUlNUVVZXWFlaW1xdXl9gYWJjZA==",
          "dtype": "i1"
         },
         "y": {
          "bdata": "CQAAAAoAAAAGAAAACAAAAAkAAAANAAAADwAAAAcAAAAIAAAACQAAAAYAAAAJAAAACAAAAAwAAAAGAAAACQAAAAQAAAAKAAAABgAAAAYAAAAJAAAABgAAAAkAAAAHAAAACgAAAAkAAAAJAAAACAAAAAYAAAALAAAACQAAAAYAAAARAAAACAAAAAcAAAAHAAAADAAAAAgAAAAKAAAACQAAAAoAAAAHAAAACQAAAAUAAAAJAAAACQAAAAcAAAAKAAAACgAAAAcAAAAHAAAADAAAAAoAAAAOAAAABgAAAAUAAAAIAAAABQAAAAcAAAAIAAAABwAAAAkAAAAJAAAABgAAAAUAAAAGAAAADQAAAAoAAAAHAAAACQAAAAYAAAAGAAAABwAAAAwAAAAHAAAACQAAAAkAAAAGAAAACAAAAAYAAAAHAAAABwAAAAcAAAAHAAAACQAAAAcAAAAJAAAACgAAAAwAAAAGAAAACgAAAAkAAAAIAAAACQAAAAoAAAAEAAAABwAAAAsAAAAGAAAACwAAAA==",
          "dtype": "u4"
         }
        },
        {
         "line": {
          "dash": "dash"
         },
         "name": "Mean moves count",
         "type": "scatter",
         "x": {
          "bdata": "AQIDBAUGBwgJCgsMDQ4PEBESExQVFhcYGRobHB0eHyAhIiMkJSYnKCkqKywtLi8wMTIzNDU2Nzg5Ojs8PT4/QEFCQ0RFRkdISUpLTE1OT1BRUlNUVVZXWFlaW1xdXl9gYWJjZA==",
          "dtype": "i1"
         },
         "y": {
          "bdata": "MzMzMzOzIEAzMzMzM7MgQDMzMzMzsyBAMzMzMzOzIEAzMzMzM7MgQDMzMzMzsyBAMzMzMzOzIEAzMzMzM7MgQDMzMzMzsyBAMzMzMzOzIEAzMzMzM7MgQDMzMzMzsyBAMzMzMzOzIEAzMzMzM7MgQDMzMzMzsyBAMzMzMzOzIEAzMzMzM7MgQDMzMzMzsyBAMzMzMzOzIEAzMzMzM7MgQDMzMzMzsyBAMzMzMzOzIEAzMzMzM7MgQDMzMzMzsyBAMzMzMzOzIEAzMzMzM7MgQDMzMzMzsyBAMzMzMzOzIEAzMzMzM7MgQDMzMzMzsyBAMzMzMzOzIEAzMzMzM7MgQDMzMzMzsyBAMzMzMzOzIEAzMzMzM7MgQDMzMzMzsyBAMzMzMzOzIEAzMzMzM7MgQDMzMzMzsyBAMzMzMzOzIEAzMzMzM7MgQDMzMzMzsyBAMzMzMzOzIEAzMzMzM7MgQDMzMzMzsyBAMzMzMzOzIEAzMzMzM7MgQDMzMzMzsyBAMzMzMzOzIEAzMzMzM7MgQDMzMzMzsyBAMzMzMzOzIEAzMzMzM7MgQDMzMzMzsyBAMzMzMzOzIEAzMzMzM7MgQDMzMzMzsyBAMzMzMzOzIEAzMzMzM7MgQDMzMzMzsyBAMzMzMzOzIEAzMzMzM7MgQDMzMzMzsyBAMzMzMzOzIEAzMzMzM7MgQDMzMzMzsyBAMzMzMzOzIEAzMzMzM7MgQDMzMzMzsyBAMzMzMzOzIEAzMzMzM7MgQDMzMzMzsyBAMzMzMzOzIEAzMzMzM7MgQDMzMzMzsyBAMzMzMzOzIEAzMzMzM7MgQDMzMzMzsyBAMzMzMzOzIEAzMzMzM7MgQDMzMzMzsyBAMzMzMzOzIEAzMzMzM7MgQDMzMzMzsyBAMzMzMzOzIEAzMzMzM7MgQDMzMzMzsyBAMzMzMzOzIEAzMzMzM7MgQDMzMzMzsyBAMzMzMzOzIEAzMzMzM7MgQDMzMzMzsyBAMzMzMzOzIEAzMzMzM7MgQDMzMzMzsyBAMzMzMzOzIEAzMzMzM7MgQDMzMzMzsyBAMzMzMzOzIEA=",
          "dtype": "f8"
         }
        }
       ],
       "layout": {
        "height": 650,
        "template": {
         "data": {
          "bar": [
           {
            "error_x": {
             "color": "#2a3f5f"
            },
            "error_y": {
             "color": "#2a3f5f"
            },
            "marker": {
             "line": {
              "color": "#E5ECF6",
              "width": 0.5
             },
             "pattern": {
              "fillmode": "overlay",
              "size": 10,
              "solidity": 0.2
             }
            },
            "type": "bar"
           }
          ],
          "barpolar": [
           {
            "marker": {
             "line": {
              "color": "#E5ECF6",
              "width": 0.5
             },
             "pattern": {
              "fillmode": "overlay",
              "size": 10,
              "solidity": 0.2
             }
            },
            "type": "barpolar"
           }
          ],
          "carpet": [
           {
            "aaxis": {
             "endlinecolor": "#2a3f5f",
             "gridcolor": "white",
             "linecolor": "white",
             "minorgridcolor": "white",
             "startlinecolor": "#2a3f5f"
            },
            "baxis": {
             "endlinecolor": "#2a3f5f",
             "gridcolor": "white",
             "linecolor": "white",
             "minorgridcolor": "white",
             "startlinecolor": "#2a3f5f"
            },
            "type": "carpet"
           }
          ],
          "choropleth": [
           {
            "colorbar": {
             "outlinewidth": 0,
             "ticks": ""
            },
            "type": "choropleth"
           }
          ],
          "contour": [
           {
            "colorbar": {
             "outlinewidth": 0,
             "ticks": ""
            },
            "colorscale": [
             [
              0,
              "#0d0887"
             ],
             [
              0.1111111111111111,
              "#46039f"
             ],
             [
              0.2222222222222222,
              "#7201a8"
             ],
             [
              0.3333333333333333,
              "#9c179e"
             ],
             [
              0.4444444444444444,
              "#bd3786"
             ],
             [
              0.5555555555555556,
              "#d8576b"
             ],
             [
              0.6666666666666666,
              "#ed7953"
             ],
             [
              0.7777777777777778,
              "#fb9f3a"
             ],
             [
              0.8888888888888888,
              "#fdca26"
             ],
             [
              1,
              "#f0f921"
             ]
            ],
            "type": "contour"
           }
          ],
          "contourcarpet": [
           {
            "colorbar": {
             "outlinewidth": 0,
             "ticks": ""
            },
            "type": "contourcarpet"
           }
          ],
          "heatmap": [
           {
            "colorbar": {
             "outlinewidth": 0,
             "ticks": ""
            },
            "colorscale": [
             [
              0,
              "#0d0887"
             ],
             [
              0.1111111111111111,
              "#46039f"
             ],
             [
              0.2222222222222222,
              "#7201a8"
             ],
             [
              0.3333333333333333,
              "#9c179e"
             ],
             [
              0.4444444444444444,
              "#bd3786"
             ],
             [
              0.5555555555555556,
              "#d8576b"
             ],
             [
              0.6666666666666666,
              "#ed7953"
             ],
             [
              0.7777777777777778,
              "#fb9f3a"
             ],
             [
              0.8888888888888888,
              "#fdca26"
             ],
             [
              1,
              "#f0f921"
             ]
            ],
            "type": "heatmap"
           }
          ],
          "histogram": [
           {
            "marker": {
             "pattern": {
              "fillmode": "overlay",
              "size": 10,
              "solidity": 0.2
             }
            },
            "type": "histogram"
           }
          ],
          "histogram2d": [
           {
            "colorbar": {
             "outlinewidth": 0,
             "ticks": ""
            },
            "colorscale": [
             [
              0,
              "#0d0887"
             ],
             [
              0.1111111111111111,
              "#46039f"
             ],
             [
              0.2222222222222222,
              "#7201a8"
             ],
             [
              0.3333333333333333,
              "#9c179e"
             ],
             [
              0.4444444444444444,
              "#bd3786"
             ],
             [
              0.5555555555555556,
              "#d8576b"
             ],
             [
              0.6666666666666666,
              "#ed7953"
             ],
             [
              0.7777777777777778,
              "#fb9f3a"
             ],
             [
              0.8888888888888888,
              "#fdca26"
             ],
             [
              1,
              "#f0f921"
             ]
            ],
            "type": "histogram2d"
           }
          ],
          "histogram2dcontour": [
           {
            "colorbar": {
             "outlinewidth": 0,
             "ticks": ""
            },
            "colorscale": [
             [
              0,
              "#0d0887"
             ],
             [
              0.1111111111111111,
              "#46039f"
             ],
             [
              0.2222222222222222,
              "#7201a8"
             ],
             [
              0.3333333333333333,
              "#9c179e"
             ],
             [
              0.4444444444444444,
              "#bd3786"
             ],
             [
              0.5555555555555556,
              "#d8576b"
             ],
             [
              0.6666666666666666,
              "#ed7953"
             ],
             [
              0.7777777777777778,
              "#fb9f3a"
             ],
             [
              0.8888888888888888,
              "#fdca26"
             ],
             [
              1,
              "#f0f921"
             ]
            ],
            "type": "histogram2dcontour"
           }
          ],
          "mesh3d": [
           {
            "colorbar": {
             "outlinewidth": 0,
             "ticks": ""
            },
            "type": "mesh3d"
           }
          ],
          "parcoords": [
           {
            "line": {
             "colorbar": {
              "outlinewidth": 0,
              "ticks": ""
             }
            },
            "type": "parcoords"
           }
          ],
          "pie": [
           {
            "automargin": true,
            "type": "pie"
           }
          ],
          "scatter": [
           {
            "fillpattern": {
             "fillmode": "overlay",
             "size": 10,
             "solidity": 0.2
            },
            "type": "scatter"
           }
          ],
          "scatter3d": [
           {
            "line": {
             "colorbar": {
              "outlinewidth": 0,
              "ticks": ""
             }
            },
            "marker": {
             "colorbar": {
              "outlinewidth": 0,
              "ticks": ""
             }
            },
            "type": "scatter3d"
           }
          ],
          "scattercarpet": [
           {
            "marker": {
             "colorbar": {
              "outlinewidth": 0,
              "ticks": ""
             }
            },
            "type": "scattercarpet"
           }
          ],
          "scattergeo": [
           {
            "marker": {
             "colorbar": {
              "outlinewidth": 0,
              "ticks": ""
             }
            },
            "type": "scattergeo"
           }
          ],
          "scattergl": [
           {
            "marker": {
             "colorbar": {
              "outlinewidth": 0,
              "ticks": ""
             }
            },
            "type": "scattergl"
           }
          ],
          "scattermap": [
           {
            "marker": {
             "colorbar": {
              "outlinewidth": 0,
              "ticks": ""
             }
            },
            "type": "scattermap"
           }
          ],
          "scattermapbox": [
           {
            "marker": {
             "colorbar": {
              "outlinewidth": 0,
              "ticks": ""
             }
            },
            "type": "scattermapbox"
           }
          ],
          "scatterpolar": [
           {
            "marker": {
             "colorbar": {
              "outlinewidth": 0,
              "ticks": ""
             }
            },
            "type": "scatterpolar"
           }
          ],
          "scatterpolargl": [
           {
            "marker": {
             "colorbar": {
              "outlinewidth": 0,
              "ticks": ""
             }
            },
            "type": "scatterpolargl"
           }
          ],
          "scatterternary": [
           {
            "marker": {
             "colorbar": {
              "outlinewidth": 0,
              "ticks": ""
             }
            },
            "type": "scatterternary"
           }
          ],
          "surface": [
           {
            "colorbar": {
             "outlinewidth": 0,
             "ticks": ""
            },
            "colorscale": [
             [
              0,
              "#0d0887"
             ],
             [
              0.1111111111111111,
              "#46039f"
             ],
             [
              0.2222222222222222,
              "#7201a8"
             ],
             [
              0.3333333333333333,
              "#9c179e"
             ],
             [
              0.4444444444444444,
              "#bd3786"
             ],
             [
              0.5555555555555556,
              "#d8576b"
             ],
             [
              0.6666666666666666,
              "#ed7953"
             ],
             [
              0.7777777777777778,
              "#fb9f3a"
             ],
             [
              0.8888888888888888,
              "#fdca26"
             ],
             [
              1,
              "#f0f921"
             ]
            ],
            "type": "surface"
           }
          ],
          "table": [
           {
            "cells": {
             "fill": {
              "color": "#EBF0F8"
             },
             "line": {
              "color": "white"
             }
            },
            "header": {
             "fill": {
              "color": "#C8D4E3"
             },
             "line": {
              "color": "white"
             }
            },
            "type": "table"
           }
          ]
         },
         "layout": {
          "annotationdefaults": {
           "arrowcolor": "#2a3f5f",
           "arrowhead": 0,
           "arrowwidth": 1
          },
          "autotypenumbers": "strict",
          "coloraxis": {
           "colorbar": {
            "outlinewidth": 0,
            "ticks": ""
           }
          },
          "colorscale": {
           "diverging": [
            [
             0,
             "#8e0152"
            ],
            [
             0.1,
             "#c51b7d"
            ],
            [
             0.2,
             "#de77ae"
            ],
            [
             0.3,
             "#f1b6da"
            ],
            [
             0.4,
             "#fde0ef"
            ],
            [
             0.5,
             "#f7f7f7"
            ],
            [
             0.6,
             "#e6f5d0"
            ],
            [
             0.7,
             "#b8e186"
            ],
            [
             0.8,
             "#7fbc41"
            ],
            [
             0.9,
             "#4d9221"
            ],
            [
             1,
             "#276419"
            ]
           ],
           "sequential": [
            [
             0,
             "#0d0887"
            ],
            [
             0.1111111111111111,
             "#46039f"
            ],
            [
             0.2222222222222222,
             "#7201a8"
            ],
            [
             0.3333333333333333,
             "#9c179e"
            ],
            [
             0.4444444444444444,
             "#bd3786"
            ],
            [
             0.5555555555555556,
             "#d8576b"
            ],
            [
             0.6666666666666666,
             "#ed7953"
            ],
            [
             0.7777777777777778,
             "#fb9f3a"
            ],
            [
             0.8888888888888888,
             "#fdca26"
            ],
            [
             1,
             "#f0f921"
            ]
           ],
           "sequentialminus": [
            [
             0,
             "#0d0887"
            ],
            [
             0.1111111111111111,
             "#46039f"
            ],
            [
             0.2222222222222222,
             "#7201a8"
            ],
            [
             0.3333333333333333,
             "#9c179e"
            ],
            [
             0.4444444444444444,
             "#bd3786"
            ],
            [
             0.5555555555555556,
             "#d8576b"
            ],
            [
             0.6666666666666666,
             "#ed7953"
            ],
            [
             0.7777777777777778,
             "#fb9f3a"
            ],
            [
             0.8888888888888888,
             "#fdca26"
            ],
            [
             1,
             "#f0f921"
            ]
           ]
          },
          "colorway": [
           "#636efa",
           "#EF553B",
           "#00cc96",
           "#ab63fa",
           "#FFA15A",
           "#19d3f3",
           "#FF6692",
           "#B6E880",
           "#FF97FF",
           "#FECB52"
          ],
          "font": {
           "color": "#2a3f5f"
          },
          "geo": {
           "bgcolor": "white",
           "lakecolor": "white",
           "landcolor": "#E5ECF6",
           "showlakes": true,
           "showland": true,
           "subunitcolor": "white"
          },
          "hoverlabel": {
           "align": "left"
          },
          "hovermode": "closest",
          "mapbox": {
           "style": "light"
          },
          "paper_bgcolor": "white",
          "plot_bgcolor": "#E5ECF6",
          "polar": {
           "angularaxis": {
            "gridcolor": "white",
            "linecolor": "white",
            "ticks": ""
           },
           "bgcolor": "#E5ECF6",
           "radialaxis": {
            "gridcolor": "white",
            "linecolor": "white",
            "ticks": ""
           }
          },
          "scene": {
           "xaxis": {
            "backgroundcolor": "#E5ECF6",
            "gridcolor": "white",
            "gridwidth": 2,
            "linecolor": "white",
            "showbackground": true,
            "ticks": "",
            "zerolinecolor": "white"
           },
           "yaxis": {
            "backgroundcolor": "#E5ECF6",
            "gridcolor": "white",
            "gridwidth": 2,
            "linecolor": "white",
            "showbackground": true,
            "ticks": "",
            "zerolinecolor": "white"
           },
           "zaxis": {
            "backgroundcolor": "#E5ECF6",
            "gridcolor": "white",
            "gridwidth": 2,
            "linecolor": "white",
            "showbackground": true,
            "ticks": "",
            "zerolinecolor": "white"
           }
          },
          "shapedefaults": {
           "line": {
            "color": "#2a3f5f"
           }
          },
          "ternary": {
           "aaxis": {
            "gridcolor": "white",
            "linecolor": "white",
            "ticks": ""
           },
           "baxis": {
            "gridcolor": "white",
            "linecolor": "white",
            "ticks": ""
           },
           "bgcolor": "#E5ECF6",
           "caxis": {
            "gridcolor": "white",
            "linecolor": "white",
            "ticks": ""
           }
          },
          "title": {
           "x": 0.05
          },
          "xaxis": {
           "automargin": true,
           "gridcolor": "white",
           "linecolor": "white",
           "ticks": "",
           "title": {
            "standoff": 15
           },
           "zerolinecolor": "white",
           "zerolinewidth": 2
          },
          "yaxis": {
           "automargin": true,
           "gridcolor": "white",
           "linecolor": "white",
           "ticks": "",
           "title": {
            "standoff": 15
           },
           "zerolinecolor": "white",
           "zerolinewidth": 2
          }
         }
        },
        "title": {
         "text": "Moves count for solving edges of the first layer in inference",
         "x": 0.5,
         "y": 0.94
        },
        "xaxis": {
         "title": {
          "text": "Episode"
         }
        },
        "yaxis": {
         "title": {
          "text": "Moves count"
         }
        }
       }
      }
     },
     "metadata": {},
     "output_type": "display_data"
    }
   ],
   "source": [
    "pl_data = pl.DataFrame({\n",
    "    \"episodes\": l_episodes,\n",
    "    \"actions\": l_l_actions,\n",
    "})\\\n",
    "    .with_columns(\n",
    "        pl.col(\"actions\").list.len().alias(\"moves_count\"),\n",
    "    )\\\n",
    "    .with_columns(\n",
    "        pl.col(\"moves_count\").mean().alias(\"mean\"),\n",
    "        pl.col(\"moves_count\").std().alias(\"std\"),\n",
    "    )\n",
    "\n",
    "fig = go.Figure()\n",
    "\n",
    "fig.add_trace(\n",
    "    go.Scatter(\n",
    "        x=pl_data[\"episodes\"],\n",
    "        y=pl_data[\"moves_count\"],\n",
    "        name=\"Moves count\"\n",
    "    )\n",
    ")\n",
    "\n",
    "fig.add_trace(\n",
    "    go.Scatter(\n",
    "        x=pl_data[\"episodes\"],\n",
    "        y=pl_data[\"mean\"],\n",
    "        name=\"Mean moves count\",\n",
    "        line=dict(dash='dash')\n",
    "    )\n",
    ")\n",
    "\n",
    "fig.update_layout(\n",
    "    height=650,\n",
    "    title={\n",
    "        'text': f'Moves count for solving edges of the first layer in inference',\n",
    "        'x': 0.5,\n",
    "        'y': 0.94,\n",
    "    },\n",
    "    xaxis=dict(title='Episode'),\n",
    "    yaxis=dict(title='Moves count'),\n",
    ")\n",
    "\n",
    "fig.show()"
   ]
  }
 ],
 "metadata": {
  "kernelspec": {
   "display_name": ".venv",
   "language": "python",
   "name": "python3"
  },
  "language_info": {
   "codemirror_mode": {
    "name": "ipython",
    "version": 3
   },
   "file_extension": ".py",
   "mimetype": "text/x-python",
   "name": "python",
   "nbconvert_exporter": "python",
   "pygments_lexer": "ipython3",
   "version": "3.13.5"
  }
 },
 "nbformat": 4,
 "nbformat_minor": 5
}
